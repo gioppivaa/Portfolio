{
 "cells": [
  {
   "cell_type": "code",
   "execution_count": 11,
   "metadata": {},
   "outputs": [
    {
     "name": "stdout",
     "output_type": "stream",
     "text": [
      "(3318, 5)\n"
     ]
    },
    {
     "data": {
      "text/html": [
       "<div>\n",
       "<style scoped>\n",
       "    .dataframe tbody tr th:only-of-type {\n",
       "        vertical-align: middle;\n",
       "    }\n",
       "\n",
       "    .dataframe tbody tr th {\n",
       "        vertical-align: top;\n",
       "    }\n",
       "\n",
       "    .dataframe thead th {\n",
       "        text-align: right;\n",
       "    }\n",
       "</style>\n",
       "<table border=\"1\" class=\"dataframe\">\n",
       "  <thead>\n",
       "    <tr style=\"text-align: right;\">\n",
       "      <th></th>\n",
       "      <th>Open</th>\n",
       "      <th>High</th>\n",
       "      <th>Low</th>\n",
       "      <th>Close</th>\n",
       "      <th>Volume</th>\n",
       "    </tr>\n",
       "    <tr>\n",
       "      <th>Date</th>\n",
       "      <th></th>\n",
       "      <th></th>\n",
       "      <th></th>\n",
       "      <th></th>\n",
       "      <th></th>\n",
       "    </tr>\n",
       "  </thead>\n",
       "  <tbody>\n",
       "    <tr>\n",
       "      <th>2023-09-01</th>\n",
       "      <td>257.26</td>\n",
       "      <td>259.0794</td>\n",
       "      <td>242.01</td>\n",
       "      <td>245.01</td>\n",
       "      <td>132541640.0</td>\n",
       "    </tr>\n",
       "    <tr>\n",
       "      <th>2023-08-31</th>\n",
       "      <td>255.98</td>\n",
       "      <td>261.1800</td>\n",
       "      <td>255.05</td>\n",
       "      <td>258.08</td>\n",
       "      <td>108861698.0</td>\n",
       "    </tr>\n",
       "    <tr>\n",
       "      <th>2023-08-30</th>\n",
       "      <td>254.20</td>\n",
       "      <td>260.5100</td>\n",
       "      <td>250.59</td>\n",
       "      <td>256.90</td>\n",
       "      <td>121988437.0</td>\n",
       "    </tr>\n",
       "    <tr>\n",
       "      <th>2023-08-29</th>\n",
       "      <td>238.58</td>\n",
       "      <td>257.4800</td>\n",
       "      <td>237.77</td>\n",
       "      <td>257.18</td>\n",
       "      <td>134047603.0</td>\n",
       "    </tr>\n",
       "    <tr>\n",
       "      <th>2023-08-28</th>\n",
       "      <td>242.58</td>\n",
       "      <td>244.3800</td>\n",
       "      <td>235.35</td>\n",
       "      <td>238.82</td>\n",
       "      <td>107673727.0</td>\n",
       "    </tr>\n",
       "  </tbody>\n",
       "</table>\n",
       "</div>"
      ],
      "text/plain": [
       "              Open      High     Low   Close       Volume\n",
       "Date                                                     \n",
       "2023-09-01  257.26  259.0794  242.01  245.01  132541640.0\n",
       "2023-08-31  255.98  261.1800  255.05  258.08  108861698.0\n",
       "2023-08-30  254.20  260.5100  250.59  256.90  121988437.0\n",
       "2023-08-29  238.58  257.4800  237.77  257.18  134047603.0\n",
       "2023-08-28  242.58  244.3800  235.35  238.82  107673727.0"
      ]
     },
     "execution_count": 11,
     "metadata": {},
     "output_type": "execute_result"
    }
   ],
   "source": [
    "import datetime as dt\n",
    "import matplotlib.pyplot as plt\n",
    "from matplotlib import style\n",
    "import pandas as pd \n",
    "import pandas_datareader.data as web\n",
    "\n",
    "style.use('ggplot')\n",
    "\n",
    "start = dt.datetime(2000,1,1)\n",
    "end = dt.datetime(2023,9,2)\n",
    "\n",
    "\n",
    "\n",
    "df = web.DataReader('TSLA','stooq', start = start ,end = end)\n",
    "\n",
    "\n",
    "\n",
    "print(df.shape)\n",
    "\n",
    "df.head()\n"
   ]
  }
 ],
 "metadata": {
  "kernelspec": {
   "display_name": "Python 3",
   "language": "python",
   "name": "python3"
  },
  "language_info": {
   "codemirror_mode": {
    "name": "ipython",
    "version": 3
   },
   "file_extension": ".py",
   "mimetype": "text/x-python",
   "name": "python",
   "nbconvert_exporter": "python",
   "pygments_lexer": "ipython3",
   "version": "3.10.11"
  },
  "orig_nbformat": 4
 },
 "nbformat": 4,
 "nbformat_minor": 2
}
